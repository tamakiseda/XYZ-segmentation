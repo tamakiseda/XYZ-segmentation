{
 "cells": [
  {
   "cell_type": "code",
   "execution_count": 2,
   "metadata": {},
   "outputs": [],
   "source": [
    "import pandas as pd\n",
    "df = pd.read_csv('test_data.csv')\n",
    "df.fillna(0, inplace=True)"
   ]
  },
  {
   "cell_type": "code",
   "execution_count": 15,
   "metadata": {},
   "outputs": [
    {
     "data": {
      "text/plain": [
       "Index(['Key Figure', 'W36 2023', 'W37 2023', 'W38 2023', 'W39 2023',\n",
       "       'W40 2023'],\n",
       "      dtype='object')"
      ]
     },
     "execution_count": 15,
     "metadata": {},
     "output_type": "execute_result"
    }
   ],
   "source": [
    "start_index=3\n",
    "end_index=9\n",
    "selected_variables = df.columns[start_index:end_index]\n",
    "selected_variables"
   ]
  },
  {
   "cell_type": "code",
   "execution_count": null,
   "metadata": {},
   "outputs": [],
   "source": [
    "    # Create a multi-select box to choose numerical variables\n",
    "    num = st.multiselect(\"Choose numerical variables\",\n",
    "                         df.select_dtypes(include=['category', 'object', 'int64', 'float64']).columns, key='ddd')\n",
    "    for col in num:\n",
    "        if df[col].dtype != 'object':\n",
    "            df[col] = pd.to_numeric(df[col].astype(str).str.replace(',', ''), errors='coerce')\n",
    "        else:\n",
    "            df[col] = pd.to_numeric(df[col].str.replace(',', ''), errors='coerce')\n"
   ]
  },
  {
   "cell_type": "code",
   "execution_count": 3,
   "metadata": {},
   "outputs": [
    {
     "name": "stdout",
     "output_type": "stream",
     "text": [
      "\n",
      "First Few Rows:\n",
      "   Location ID    Product ID  Customer ID          Key Figure W36 2023  \\\n",
      "0         8310  10000013044V       104841  Statistical FC Qty        0   \n",
      "1         8310  10000013055V       100010  Statistical FC Qty        0   \n",
      "2         8310  10000013055V       100015  Statistical FC Qty        0   \n",
      "3         8310  10000013055V       100420  Statistical FC Qty    1,560   \n",
      "4         8310  10000013055V       101055  Statistical FC Qty      660   \n",
      "\n",
      "  W37 2023 W38 2023 W39 2023 W40 2023 W41 2023  ... W44 2023 W45 2023  \\\n",
      "0        0        0        0        0        0  ...        0        0   \n",
      "1        0        0        0        0        0  ...        0        0   \n",
      "2        0        0        0        0        0  ...        0        0   \n",
      "3    1,560    1,560    1,337        0        0  ...    3,735        0   \n",
      "4      660      660      566        0        0  ...        0        0   \n",
      "\n",
      "  W46 2023 W47 2023 W48 2023 W49 2023 W50 2023 W51 2023 W52 2023 W01 2024  \n",
      "0        0        0        0        0        0        0        0        0  \n",
      "1        0        0        0        0        0        0        0        0  \n",
      "2        0        0        0        0        0        0        0        0  \n",
      "3    3,733    3,733    3,733    3,733        0        0    3,723        0  \n",
      "4        0        0        0        0        0        0        0        0  \n",
      "\n",
      "[5 rows x 22 columns]\n"
     ]
    }
   ],
   "source": [
    "\n",
    "# Display the first few rows of the DataFrame\n",
    "print(\"\\nFirst Few Rows:\")\n",
    "print(df.head())"
   ]
  },
  {
   "cell_type": "code",
   "execution_count": null,
   "metadata": {},
   "outputs": [],
   "source": [
    "print(df.head())"
   ]
  },
  {
   "cell_type": "code",
   "execution_count": null,
   "metadata": {},
   "outputs": [],
   "source": []
  },
  {
   "cell_type": "code",
   "execution_count": 4,
   "metadata": {},
   "outputs": [],
   "source": [
    "selected_numerical_variables =['W37 2023', 'W38 2023' ,'W39 2023', 'W40 2023']\n",
    "for col in selected_numerical_variables:\n",
    "    if df[col].dtype != 'object':\n",
    "        df[col] = pd.to_numeric(df[col].astype(str).str.replace(',', ''), errors='coerce')\n",
    "    else:\n",
    "        df[col] = pd.to_numeric(df[col].str.replace(',', ''), errors='coerce')\n",
    "                "
   ]
  },
  {
   "cell_type": "code",
   "execution_count": 5,
   "metadata": {},
   "outputs": [],
   "source": [
    "selected_categorical_variables =['Location ID',   'Product ID' , 'Customer ID'  ]\n",
    "for col in selected_categorical_variables:\n",
    "    df[col] = df[col].astype('category')"
   ]
  },
  {
   "cell_type": "code",
   "execution_count": 6,
   "metadata": {},
   "outputs": [],
   "source": [
    "df_group = df.groupby(selected_categorical_variables)[\n",
    "        selected_numerical_variables].sum().reset_index()"
   ]
  },
  {
   "cell_type": "code",
   "execution_count": 7,
   "metadata": {},
   "outputs": [
    {
     "name": "stdout",
     "output_type": "stream",
     "text": [
      "<class 'pandas.core.frame.DataFrame'>\n",
      "RangeIndex: 2956100 entries, 0 to 2956099\n",
      "Data columns (total 7 columns):\n",
      " #   Column       Dtype   \n",
      "---  ------       -----   \n",
      " 0   Location ID  category\n",
      " 1   Product ID   category\n",
      " 2   Customer ID  category\n",
      " 3   W37 2023     float64 \n",
      " 4   W38 2023     float64 \n",
      " 5   W39 2023     float64 \n",
      " 6   W40 2023     float64 \n",
      "dtypes: category(3), float64(4)\n",
      "memory usage: 104.6 MB\n",
      "None\n"
     ]
    }
   ],
   "source": [
    "print(df_group.info())"
   ]
  },
  {
   "cell_type": "code",
   "execution_count": 8,
   "metadata": {},
   "outputs": [
    {
     "name": "stdout",
     "output_type": "stream",
     "text": [
      "<class 'pandas.core.frame.DataFrame'>\n",
      "RangeIndex: 2956100 entries, 0 to 2956099\n",
      "Data columns (total 7 columns):\n",
      " #   Column       Dtype   \n",
      "---  ------       -----   \n",
      " 0   Location ID  category\n",
      " 1   Product ID   category\n",
      " 2   Customer ID  category\n",
      " 3   W37 2023     float64 \n",
      " 4   W38 2023     float64 \n",
      " 5   W39 2023     float64 \n",
      " 6   W40 2023     float64 \n",
      "dtypes: category(3), float64(4)\n",
      "memory usage: 104.6 MB\n"
     ]
    },
    {
     "data": {
      "text/plain": [
       "(None, (2956100, 7))"
      ]
     },
     "execution_count": 8,
     "metadata": {},
     "output_type": "execute_result"
    }
   ],
   "source": [
    "dfg = df.groupby(selected_categorical_variables)[selected_numerical_variables].sum().reset_index()\n",
    "dfg.info(), dfg.shape"
   ]
  },
  {
   "cell_type": "code",
   "execution_count": null,
   "metadata": {},
   "outputs": [],
   "source": [
    "numeric_columns = df_group.select_dtypes(include='float64').columns\n",
    "#numeric_columns = df.select_dtypes(include=np.number).columns\n",
    "numeric_columns\n",
    "print(df_group.head())"
   ]
  },
  {
   "cell_type": "code",
   "execution_count": null,
   "metadata": {},
   "outputs": [],
   "source": [
    "df_group['cv'] = df_group[numeric_columns].std(axis=1) / df_group[numeric_columns].mean(axis=1)\n",
    "df_group['cv_squared'] = df_group['cv']**2\n",
    "print(df_group.info())\n",
    "df_group.info(), df_group.shape"
   ]
  },
  {
   "cell_type": "code",
   "execution_count": null,
   "metadata": {},
   "outputs": [],
   "source": [
    "print(df_group['cv'])"
   ]
  },
  {
   "cell_type": "code",
   "execution_count": 101,
   "metadata": {},
   "outputs": [
    {
     "name": "stdout",
     "output_type": "stream",
     "text": [
      "<class 'pandas.core.frame.DataFrame'>\n",
      "RangeIndex: 8657 entries, 0 to 8656\n",
      "Data columns (total 7 columns):\n",
      " #   Column       Non-Null Count  Dtype \n",
      "---  ------       --------------  ----- \n",
      " 0   Location ID  8657 non-null   int64 \n",
      " 1   Product ID   8657 non-null   object\n",
      " 2   Customer ID  8657 non-null   int64 \n",
      " 3   W37 2023     8657 non-null   object\n",
      " 4   W38 2023     8657 non-null   object\n",
      " 5   W39 2023     8657 non-null   object\n",
      " 6   W40 2023     8657 non-null   object\n",
      "dtypes: int64(2), object(5)\n",
      "memory usage: 473.6+ KB\n"
     ]
    },
    {
     "data": {
      "text/plain": [
       "(None, (8657, 7))"
      ]
     },
     "execution_count": 101,
     "metadata": {},
     "output_type": "execute_result"
    }
   ],
   "source": [
    "import pandas as pd\n",
    "df = pd.read_csv('test_data.csv')\n",
    "cat = ['Location ID', 'Product ID', 'Customer ID']\n",
    "num = ['W37 2023', 'W38 2023', 'W39 2023', 'W40 2023']\n",
    "dfg = df.groupby(cat)[num].sum().reset_index()\n",
    "dfg.info(), dfg.shape"
   ]
  },
  {
   "cell_type": "code",
   "execution_count": 103,
   "metadata": {},
   "outputs": [
    {
     "name": "stdout",
     "output_type": "stream",
     "text": [
      "<class 'pandas.core.frame.DataFrame'>\n",
      "RangeIndex: 412 entries, 0 to 411\n",
      "Data columns (total 6 columns):\n",
      " #   Column       Non-Null Count  Dtype \n",
      "---  ------       --------------  ----- \n",
      " 0   Location ID  412 non-null    int64 \n",
      " 1   Customer ID  412 non-null    int64 \n",
      " 2   W37 2023     412 non-null    object\n",
      " 3   W38 2023     412 non-null    object\n",
      " 4   W39 2023     412 non-null    object\n",
      " 5   W40 2023     412 non-null    object\n",
      "dtypes: int64(2), object(4)\n",
      "memory usage: 19.4+ KB\n"
     ]
    },
    {
     "data": {
      "text/plain": [
       "(None, (412, 6))"
      ]
     },
     "execution_count": 103,
     "metadata": {},
     "output_type": "execute_result"
    }
   ],
   "source": [
    "import pandas as pd\n",
    "df = pd.read_csv('test_data.csv')\n",
    "cat = ['Location ID', 'Customer ID']\n",
    "num = ['W37 2023', 'W38 2023', 'W39 2023', 'W40 2023']\n",
    "dfg = df.groupby(cat)[num].sum().reset_index()\n",
    "dfg.info(), dfg.shape"
   ]
  },
  {
   "cell_type": "code",
   "execution_count": 107,
   "metadata": {},
   "outputs": [
    {
     "name": "stdout",
     "output_type": "stream",
     "text": [
      "     Location ID  Customer ID  \\\n",
      "0           8310         8110   \n",
      "1           8310         8130   \n",
      "2           8310         8320   \n",
      "3           8310         8410   \n",
      "4           8310       100006   \n",
      "..           ...          ...   \n",
      "407         8310       104815   \n",
      "408         8310       104828   \n",
      "409         8310       104841   \n",
      "410         8310       104842   \n",
      "411         8310       104848   \n",
      "\n",
      "                                              W37 2023  \\\n",
      "0                                               989000   \n",
      "1                       00002490000028022,222490000000   \n",
      "2    0000000000000000000000000000000000000000000000...   \n",
      "3                                                00000   \n",
      "4                                            000000000   \n",
      "..                                                 ...   \n",
      "407                                                 00   \n",
      "408                                             000000   \n",
      "409                                                  0   \n",
      "410                                                  0   \n",
      "411                                                 00   \n",
      "\n",
      "                                              W38 2023  \\\n",
      "0                                               989000   \n",
      "1                       00002490000028022,222490000000   \n",
      "2    0000000000000000000000000000000000000000000000...   \n",
      "3                                                00000   \n",
      "4                                            000000000   \n",
      "..                                                 ...   \n",
      "407                                                 00   \n",
      "408                                             000000   \n",
      "409                                                  0   \n",
      "410                                                  0   \n",
      "411                                                 00   \n",
      "\n",
      "                                              W39 2023  \\\n",
      "0                                               940400   \n",
      "1                     000042600031030021,2154200001000   \n",
      "2    0000000000000000000000000000000000000000000000...   \n",
      "3                                                00000   \n",
      "4                                            000000000   \n",
      "..                                                 ...   \n",
      "407                                                 00   \n",
      "408                                          002802412   \n",
      "409                                                 00   \n",
      "410                                                  0   \n",
      "411                                                 00   \n",
      "\n",
      "                                              W40 2023  \n",
      "0                                              6453000  \n",
      "1                   00001,492000216043015,173000007200  \n",
      "2    0000000000000000000000000000000000000000000000...  \n",
      "3                                                00000  \n",
      "4                                            000000000  \n",
      "..                                                 ...  \n",
      "407                                                 00  \n",
      "408                                        00197017086  \n",
      "409                                                 00  \n",
      "410                                                  0  \n",
      "411                                                 00  \n",
      "\n",
      "[412 rows x 6 columns]\n"
     ]
    }
   ],
   "source": [
    "print(dfg)"
   ]
  },
  {
   "cell_type": "code",
   "execution_count": null,
   "metadata": {},
   "outputs": [],
   "source": [
    "\n",
    "\n",
    "# Check the shape of the DataFrame\n",
    "print(\"Shape of df_group:\", df_group.shape)\n",
    "# Check the number of dimensions\n",
    "print(\"Number of dimensions:\", df_group.ndim)\n",
    "\n",
    "\n",
    "# Check the shape of the DataFrame\n",
    "print(\"Shape of data:\", df.shape)\n",
    "\n",
    "# Check the number of dimensions\n",
    "print(\"Number of dimensions:\", df.ndim)\n"
   ]
  },
  {
   "cell_type": "code",
   "execution_count": null,
   "metadata": {},
   "outputs": [],
   "source": [
    "print(df_group)"
   ]
  },
  {
   "cell_type": "code",
   "execution_count": 4,
   "metadata": {},
   "outputs": [
    {
     "data": {
      "text/plain": [
       "['Location ID', 'Customer ID']"
      ]
     },
     "execution_count": 4,
     "metadata": {},
     "output_type": "execute_result"
    }
   ],
   "source": [
    "df.columns\n",
    "\n",
    "numerical_columns = df.select_dtypes(include='number').columns.tolist()\n",
    "\n",
    "numerical_columns"
   ]
  },
  {
   "cell_type": "code",
   "execution_count": 12,
   "metadata": {},
   "outputs": [
    {
     "data": {
      "text/html": [
       "<div>\n",
       "<style scoped>\n",
       "    .dataframe tbody tr th:only-of-type {\n",
       "        vertical-align: middle;\n",
       "    }\n",
       "\n",
       "    .dataframe tbody tr th {\n",
       "        vertical-align: top;\n",
       "    }\n",
       "\n",
       "    .dataframe thead th {\n",
       "        text-align: right;\n",
       "    }\n",
       "</style>\n",
       "<table border=\"1\" class=\"dataframe\">\n",
       "  <thead>\n",
       "    <tr style=\"text-align: right;\">\n",
       "      <th></th>\n",
       "      <th>cluster</th>\n",
       "      <th>min</th>\n",
       "      <th>max</th>\n",
       "      <th>mean</th>\n",
       "    </tr>\n",
       "  </thead>\n",
       "  <tbody>\n",
       "    <tr>\n",
       "      <th>0</th>\n",
       "      <td>A</td>\n",
       "      <td>10</td>\n",
       "      <td>30</td>\n",
       "      <td>20.0</td>\n",
       "    </tr>\n",
       "    <tr>\n",
       "      <th>1</th>\n",
       "      <td>B</td>\n",
       "      <td>15</td>\n",
       "      <td>35</td>\n",
       "      <td>25.0</td>\n",
       "    </tr>\n",
       "  </tbody>\n",
       "</table>\n",
       "</div>"
      ],
      "text/plain": [
       "  cluster  min  max  mean\n",
       "0       A   10   30  20.0\n",
       "1       B   15   35  25.0"
      ]
     },
     "execution_count": 12,
     "metadata": {},
     "output_type": "execute_result"
    }
   ],
   "source": [
    "import streamlit as st\n",
    "import pandas as pd\n",
    "import altair as alt\n",
    "\n",
    "# Sample data\n",
    "data = {'CV': [10, 15, 20, 25, 30, 35],\n",
    "        'cluster': ['A', 'B', 'A', 'B', 'A', 'B']}\n",
    "df = pd.DataFrame(data)\n",
    "\n",
    "# Calculate min, max, mean of 'CV' for each cluster\n",
    "cluster_stats = df.groupby('cluster')['CV'].agg(['min', 'max', 'mean']).reset_index()\n",
    "cluster_stats"
   ]
  },
  {
   "cell_type": "code",
   "execution_count": null,
   "metadata": {},
   "outputs": [],
   "source": [
    "\n",
    "# Sort clusters based on mean values\n",
    "sorted_clusters = cluster_stats.sort_values(by='mean', ascending=False)['cluster'].tolist()\n",
    "\n",
    "# Create a mapping from sorted clusters to categories 'x', 'y', 'z'\n",
    "cluster_mapping = {cluster: category for cluster, category in zip(sorted_clusters, ['x', 'y', 'z'])}\n",
    "\n",
    "# Add a new column 'category' based on the mapping\n",
    "df['category'] = df['cluster'].map(cluster_mapping)\n",
    "\n",
    "cols = st.columns(2)\n",
    "x_axis = cols[0].selectbox('Select X-axis variable:', df.columns, index=df.columns.get_loc('category'))\n",
    "y_axis = cols[1].selectbox('Select Y-axis variable:', df.columns, index=df.columns.get_loc('CV'))\n",
    "\n",
    "# Scatter plot with Altair\n",
    "scatter_plot = alt.Chart(df).mark_circle().encode(\n",
    "    x=x_axis,\n",
    "    y=y_axis,\n",
    "    color=alt.Color('cluster:N', title='Cluster'),  # Set legend title\n",
    "    tooltip=list(df.columns)\n",
    ").interactive()\n",
    "\n",
    "# Adding centroid points\n",
    "centroid_plot = alt.Chart(df.groupby('cluster').mean().reset_index()).mark_point(\n",
    "    shape='cross',\n",
    "    size=150,\n",
    "    strokeWidth=2\n",
    ").encode(\n",
    "    x=x_axis,\n",
    "    y=y_axis,\n",
    "    color=alt.value('red'),  # Set color for centroids\n",
    "    tooltip=['cluster:N']  # Display only cluster in tooltip for centroids\n",
    ")\n",
    "\n",
    "# Combine scatter plot and centroid plot\n",
    "final_plot = scatter_plot + centroid_plot\n",
    "st.subheader('Cluster Results')\n",
    "st.altair_chart(final_plot, use_container_width=True)\n"
   ]
  },
  {
   "cell_type": "code",
   "execution_count": null,
   "metadata": {},
   "outputs": [],
   "source": [
    "    # Create a multi-select box to choose categorical variables\n",
    "    cat = st.multiselect(\n",
    "        \"Choose Planning Level\",\n",
    "        df_before_key_figure.select_dtypes(include=['category', 'object', 'int64', 'float64']).columns\n",
    "    )\n",
    "\n",
    "    # Convert selected categorical variables to 'category' type\n",
    "    for col in cat:\n",
    "        df[col] = df[col].astype('category')\n",
    "\n",
    "    central_variable = st.selectbox(\"Choose Start Period\", df_after_key_figure.columns, key='central_variable')\n",
    "    constant_value = st.number_input(\"Number of the periods\", value=5, step=1, key='constant_value')\n",
    "    variable_index = df.columns.get_loc(central_variable)\n",
    "    num = df.columns[variable_index: variable_index + constant_value]\n",
    "    for col in num:\n",
    "        if df[col].dtype != 'object':\n",
    "            df[col] = pd.to_numeric(df[col].astype(str).str.replace(',', ''), errors='coerce')\n",
    "        else:\n",
    "            df[col] = pd.to_numeric(df[col].str.replace(',', ''), errors='coerce')\n",
    "    \n",
    "    dfg = df.groupby(cat)[num].sum().reset_index()\n",
    "    df=dfg"
   ]
  },
  {
   "cell_type": "code",
   "execution_count": null,
   "metadata": {},
   "outputs": [],
   "source": [
    "    cat = st.multiselect(\n",
    "        \"Choose Planning Level\",\n",
    "        df_before_key_figure.select_dtypes(include=['category', 'object', 'int64', 'float64']).columns\n",
    "    )\n",
    "\n",
    "    for col in cat:\n",
    "        df[col] = df[col].astype('category')\n",
    "\n",
    "    col1, col2, col3 = st.columns(3)\n",
    "\n",
    "    with col1:\n",
    "        cat = st.multiselect(\n",
    "        \"Choose Planning Level\",\n",
    "        df_before_key_figure.select_dtypes(include=['category', 'object', 'int64', 'float64']).columns\n",
    "        key='choose_planning_level')\n",
    "\n",
    "        for col in cat:\n",
    "            df[col] = df[col].astype('category')\n",
    "\n",
    "    with col2:\n",
    "        central_variable = st.selectbox(\"Choose Start Period\", \n",
    "                                        df_after_key_figure.columns,  key='choose_start_period')\n",
    "\n",
    "    with col3:\n",
    "        constant_value = st.number_input(\"Number of the periods\", value=5, step=1, key='number_of_periods')\n",
    "\n",
    "\n",
    "    variable_index = df.columns.get_loc(central_variable)\n",
    "    num = df.columns[variable_index: variable_index + constant_value]\n",
    "    for col in num:\n",
    "        if df[col].dtype != 'object':\n",
    "            df[col] = pd.to_numeric(df[col].astype(str).str.replace(',', ''), errors='coerce')\n",
    "        else:\n",
    "            df[col] = pd.to_numeric(df[col].str.replace(',', ''), errors='coerce')\n",
    "\n",
    "    dfg = df.groupby(cat)[num].sum().reset_index()\n",
    "    df = dfg\n"
   ]
  }
 ],
 "metadata": {
  "kernelspec": {
   "display_name": "base",
   "language": "python",
   "name": "python3"
  },
  "language_info": {
   "codemirror_mode": {
    "name": "ipython",
    "version": 3
   },
   "file_extension": ".py",
   "mimetype": "text/x-python",
   "name": "python",
   "nbconvert_exporter": "python",
   "pygments_lexer": "ipython3",
   "version": "3.10.9"
  }
 },
 "nbformat": 4,
 "nbformat_minor": 2
}
